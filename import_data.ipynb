{
 "cells": [
  {
   "cell_type": "markdown",
   "id": "ce6af091",
   "metadata": {},
   "source": [
    "# Football Data Import and Table Relationships in PostgreSQL\n",
    "\n",
    "This project showcases a Python script that automates the process of importing football data from CSV files into PostgreSQL tables. The script establishes relationships between the tables, ensuring data consistency and enabling efficient querying and analysis.\n",
    "\n",
    "## Key Steps\n",
    "\n",
    "1. **Data Reading**: The script utilizes the powerful pandas library to read the football data from CSV files and store it in pandas DataFrames.\n",
    "2. **Database Connection**: Establish a secure and reliable connection to the PostgreSQL database using psycopg2, a popular PostgreSQL adapter for Python.\n",
    "3. **Table Creation**: SQL statements are executed to create tables for match results, shootouts, and goalscorers. This ensures a structured and organized representation of the data.\n",
    "4. **Data Insertion**: The script efficiently inserts the data from DataFrames into the respective PostgreSQL tables, leveraging the SQLAlchemy library for seamless interaction with the database.\n",
    "5. **Table Relationship Update**: The script updates the shootouts and goalscorers tables with the corresponding result_id from the results table based on matching date, home team, and away team. This establishes relationships between the tables, allowing for meaningful data analysis.\n",
    "6. **Referential Integrity**: Foreign key constraints are added to the shootouts and goalscorers tables, ensuring referential integrity with the results table. This enhances data integrity and consistency within the database.\n",
    "\n",
    "The Football Data Import and Table Relationships project aims to simplify the data engineering process, making it easier to import, store, and query football data in a PostgreSQL database. By automating these tasks, analysts and data scientists can focus on extracting valuable insights from the data without worrying about the complexities of data management.\n",
    "\n",
    "Feel free to customize and refine this introduction according to your project's specific details and requirements."
   ]
  },
  {
   "cell_type": "markdown",
   "id": "8e017df7",
   "metadata": {},
   "source": [
    "### Import libraries"
   ]
  },
  {
   "cell_type": "code",
   "execution_count": 77,
   "id": "9ea22ac4",
   "metadata": {},
   "outputs": [],
   "source": [
    "import pandas as pd\n",
    "import psycopg2\n",
    "from sqlalchemy import create_engine"
   ]
  },
  {
   "cell_type": "markdown",
   "id": "41f456a4",
   "metadata": {},
   "source": [
    "### Function to create a database if needed and connect to it"
   ]
  },
  {
   "cell_type": "code",
   "execution_count": 78,
   "id": "be59a102",
   "metadata": {},
   "outputs": [],
   "source": [
    "def create_connection(host, port, database, user, password):\n",
    "    # Connect to the default PostgreSQL database (e.g., \"postgres\")\n",
    "    default_conn = psycopg2.connect(\n",
    "        host=host,\n",
    "        port=port,\n",
    "        database='postgres',\n",
    "        user=user,\n",
    "        password=password\n",
    "    )\n",
    "    \n",
    "    default_conn.autocommit = True\n",
    "    default_cursor = default_conn.cursor()\n",
    "    \n",
    "    # Check if the specified database exists\n",
    "    default_cursor.execute(\"SELECT 1 FROM pg_catalog.pg_database WHERE datname = %s;\", (database,))\n",
    "    exists = default_cursor.fetchone()\n",
    "    \n",
    "    if not exists:\n",
    "        # Create the specified database if it doesn't exist\n",
    "        default_cursor.execute(f\"CREATE DATABASE {database};\")\n",
    "    \n",
    "    default_cursor.close()\n",
    "    default_conn.close()\n",
    "    \n",
    "    # Connect to the specified database\n",
    "    conn = psycopg2.connect(\n",
    "        host=host,\n",
    "        port=port,\n",
    "        database=database,\n",
    "        user=user,\n",
    "        password=password\n",
    "    )\n",
    "    \n",
    "    return conn"
   ]
  },
  {
   "cell_type": "markdown",
   "id": "00d3d530",
   "metadata": {},
   "source": [
    "### Function to execute a SQL query and commit changes"
   ]
  },
  {
   "cell_type": "code",
   "execution_count": 79,
   "id": "8f9ea7f3",
   "metadata": {},
   "outputs": [],
   "source": [
    "def execute_query(conn, query):\n",
    "    cursor = conn.cursor()\n",
    "    cursor.execute(query)\n",
    "    conn.commit()\n",
    "    cursor.close()"
   ]
  },
  {
   "cell_type": "markdown",
   "id": "35578475",
   "metadata": {},
   "source": [
    "### Function to insert DataFrame data into a PostgreSQL table"
   ]
  },
  {
   "cell_type": "code",
   "execution_count": 80,
   "id": "8d014bb4",
   "metadata": {},
   "outputs": [],
   "source": [
    "def insert_data(conn, df, table_name):\n",
    "    engine = create_engine(f'postgresql://{conn.info.user}:{conn.info.password}@{conn.info.host}:{conn.info.port}/{conn.info.dbname}')\n",
    "    df.to_sql(table_name, engine, if_exists='append', index=False)"
   ]
  },
  {
   "cell_type": "markdown",
   "id": "b777b023",
   "metadata": {},
   "source": [
    "### Queries to create tables for match results, shootouts, and goalscorers"
   ]
  },
  {
   "cell_type": "code",
   "execution_count": 81,
   "id": "b34e824b",
   "metadata": {},
   "outputs": [],
   "source": [
    "create_results_table_query = \"\"\"\n",
    "    CREATE TABLE IF NOT EXISTS results (\n",
    "        id SERIAL PRIMARY KEY,\n",
    "        date DATE,\n",
    "        home_team TEXT,\n",
    "        away_team TEXT,\n",
    "        home_score INTEGER,\n",
    "        away_score INTEGER,\n",
    "        tournament TEXT,\n",
    "        city TEXT,\n",
    "        country TEXT,\n",
    "        neutral BOOLEAN\n",
    "    );\n",
    "\"\"\"\n",
    "\n",
    "create_shootouts_table_query = \"\"\"\n",
    "    CREATE TABLE IF NOT EXISTS shootouts (\n",
    "        id SERIAL PRIMARY KEY,\n",
    "        result_id INTEGER,\n",
    "        date DATE,\n",
    "        home_team TEXT,\n",
    "        away_team TEXT,\n",
    "        winner TEXT\n",
    "    );\n",
    "\"\"\"\n",
    "\n",
    "create_goalscorers_table_query = \"\"\"\n",
    "    CREATE TABLE IF NOT EXISTS goalscorers (\n",
    "        id SERIAL PRIMARY KEY,\n",
    "        result_id INTEGER,\n",
    "        date DATE,\n",
    "        home_team TEXT,\n",
    "        away_team TEXT,\n",
    "        team TEXT,\n",
    "        scorer TEXT,\n",
    "        minute INTEGER,\n",
    "        own_goal BOOLEAN,\n",
    "        penalty BOOLEAN\n",
    "    );\n",
    "\"\"\""
   ]
  },
  {
   "cell_type": "markdown",
   "id": "35da5367",
   "metadata": {},
   "source": [
    "### Queries to update shootouts and goalscorers tables with result_id from results table"
   ]
  },
  {
   "cell_type": "code",
   "execution_count": 82,
   "id": "d9d0a543",
   "metadata": {},
   "outputs": [],
   "source": [
    "update_shootouts_query = \"\"\"\n",
    "    UPDATE shootouts\n",
    "    SET result_id = (\n",
    "        SELECT id\n",
    "        FROM results\n",
    "        WHERE shootouts.date = results.date\n",
    "            AND shootouts.home_team = results.home_team\n",
    "            AND shootouts.away_team = results.away_team\n",
    "    )\n",
    "    WHERE result_id IS NULL;\n",
    "\"\"\"\n",
    "\n",
    "update_goalscorers_query = \"\"\"\n",
    "    UPDATE goalscorers\n",
    "    SET result_id = (\n",
    "        SELECT id\n",
    "        FROM results\n",
    "        WHERE goalscorers.date = results.date\n",
    "            AND goalscorers.home_team = results.home_team\n",
    "            AND goalscorers.away_team = results.away_team\n",
    "    )\n",
    "    WHERE result_id IS NULL;\n",
    "\"\"\""
   ]
  },
  {
   "cell_type": "markdown",
   "id": "4c18717c",
   "metadata": {},
   "source": [
    "### Queries to add foreign key constraints to shootouts and goalscorers tables"
   ]
  },
  {
   "cell_type": "code",
   "execution_count": 83,
   "id": "16b3c167",
   "metadata": {},
   "outputs": [],
   "source": [
    "add_fk_constraint_shootouts_query = \"\"\"\n",
    "    ALTER TABLE shootouts\n",
    "    ADD CONSTRAINT fk_result_id\n",
    "    FOREIGN KEY (result_id)\n",
    "    REFERENCES results(id);\n",
    "\"\"\"\n",
    "\n",
    "add_fk_constraint_goalscorers_query = \"\"\"\n",
    "    ALTER TABLE goalscorers\n",
    "    ADD CONSTRAINT fk_result_id\n",
    "    FOREIGN KEY (result_id)\n",
    "    REFERENCES results(id);\n",
    "\"\"\""
   ]
  },
  {
   "cell_type": "markdown",
   "id": "ed5cd3fd",
   "metadata": {},
   "source": [
    "### Read the CSV files"
   ]
  },
  {
   "cell_type": "code",
   "execution_count": 84,
   "id": "27b003bd",
   "metadata": {},
   "outputs": [],
   "source": [
    "results_df = pd.read_csv('datasets/results.csv')\n",
    "shootouts_df = pd.read_csv('datasets/shootouts.csv')\n",
    "goalscorers_df = pd.read_csv('datasets/goalscorers.csv')"
   ]
  },
  {
   "cell_type": "markdown",
   "id": "0abe744f",
   "metadata": {},
   "source": [
    "### Create database connection"
   ]
  },
  {
   "cell_type": "code",
   "execution_count": 85,
   "id": "e2e0e9f4",
   "metadata": {},
   "outputs": [],
   "source": [
    "conn = create_connection(host='localhost', port='5432', database='football_data', user='postgres', password='root*')"
   ]
  },
  {
   "cell_type": "markdown",
   "id": "fd0cc89c",
   "metadata": {},
   "source": [
    "### Create tables"
   ]
  },
  {
   "cell_type": "code",
   "execution_count": 86,
   "id": "32a05765",
   "metadata": {},
   "outputs": [],
   "source": [
    "execute_query(conn, create_results_table_query)\n",
    "execute_query(conn, create_shootouts_table_query)\n",
    "execute_query(conn, create_goalscorers_table_query)"
   ]
  },
  {
   "cell_type": "markdown",
   "id": "6f7d839f",
   "metadata": {},
   "source": [
    "### Insert data into tables"
   ]
  },
  {
   "cell_type": "code",
   "execution_count": 87,
   "id": "d3f2cb51",
   "metadata": {},
   "outputs": [],
   "source": [
    "insert_data(conn, results_df, 'results')\n",
    "insert_data(conn, shootouts_df, 'shootouts')\n",
    "insert_data(conn, goalscorers_df, 'goalscorers')"
   ]
  },
  {
   "cell_type": "markdown",
   "id": "88e8d6af",
   "metadata": {},
   "source": [
    "### Update shootouts table with result_id from results table"
   ]
  },
  {
   "cell_type": "code",
   "execution_count": 88,
   "id": "f7554194",
   "metadata": {},
   "outputs": [],
   "source": [
    "execute_query(conn, update_shootouts_query)"
   ]
  },
  {
   "cell_type": "markdown",
   "id": "5ddab53a",
   "metadata": {},
   "source": [
    "### Update goalscorers table with result_id from results table"
   ]
  },
  {
   "cell_type": "code",
   "execution_count": 89,
   "id": "f331483f",
   "metadata": {},
   "outputs": [],
   "source": [
    "execute_query(conn, update_goalscorers_query)"
   ]
  },
  {
   "cell_type": "markdown",
   "id": "533b00a6",
   "metadata": {},
   "source": [
    "### Add foreign key constraints"
   ]
  },
  {
   "cell_type": "code",
   "execution_count": 90,
   "id": "95c9f92d",
   "metadata": {},
   "outputs": [],
   "source": [
    "execute_query(conn, add_fk_constraint_shootouts_query)\n",
    "execute_query(conn, add_fk_constraint_goalscorers_query)"
   ]
  },
  {
   "cell_type": "markdown",
   "id": "22180db2",
   "metadata": {},
   "source": [
    "### Close the connection"
   ]
  },
  {
   "cell_type": "code",
   "execution_count": 91,
   "id": "42633343",
   "metadata": {},
   "outputs": [],
   "source": [
    "conn.close()"
   ]
  }
 ],
 "metadata": {
  "kernelspec": {
   "display_name": "Python 3 (ipykernel)",
   "language": "python",
   "name": "python3"
  },
  "language_info": {
   "codemirror_mode": {
    "name": "ipython",
    "version": 3
   },
   "file_extension": ".py",
   "mimetype": "text/x-python",
   "name": "python",
   "nbconvert_exporter": "python",
   "pygments_lexer": "ipython3",
   "version": "3.10.9"
  }
 },
 "nbformat": 4,
 "nbformat_minor": 5
}
